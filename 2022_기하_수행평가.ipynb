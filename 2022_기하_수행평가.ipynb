{
  "nbformat": 4,
  "nbformat_minor": 0,
  "metadata": {
    "colab": {
      "name": "2022 기하 수행평가.ipynb",
      "provenance": [],
      "collapsed_sections": [],
      "toc_visible": true,
      "authorship_tag": "ABX9TyM8Otz5BI/VBLC2FJ3SCEuZ",
      "include_colab_link": true
    },
    "kernelspec": {
      "name": "python3",
      "display_name": "Python 3"
    },
    "language_info": {
      "name": "python"
    }
  },
  "cells": [
    {
      "cell_type": "markdown",
      "metadata": {
        "id": "view-in-github",
        "colab_type": "text"
      },
      "source": [
        "<a href=\"https://colab.research.google.com/github/Geonwoo1109/Geometry_in_Python/blob/main/2022_%EA%B8%B0%ED%95%98_%EC%88%98%ED%96%89%ED%8F%89%EA%B0%80.ipynb\" target=\"_parent\"><img src=\"https://colab.research.google.com/assets/colab-badge.svg\" alt=\"Open In Colab\"/></a>"
      ]
    },
    {
      "cell_type": "markdown",
      "source": [
        "# **기하 수행평가를 준비하는 여러분께**\n",
        "**🎉구글 코랩에 오신 것을 환영합니다!🎉**\n",
        "\n",
        "\n",
        "---\n",
        "\n",
        "\n",
        "#**💻단축키**\n",
        "**여러분의 코랩 코딩을 도와드리기 위해 몇 가지 단축키를 알려드리겠습니다.**\n",
        "\n",
        "* Ctrl + Enter: 셀 실행\n",
        "* Shift + Enter: 셀 실행 + 다음 셀로 이동\n",
        "* Alt + Enter: 셀 실행 + 새로운 셀 제작\n",
        "\n",
        "\n",
        "---\n",
        "\n",
        "\n",
        "# **📘팁**\n",
        "**헷갈리는 파이썬의 표현을 정리했습니다.**\n",
        "\n",
        "* 3*2 = 6 (곱하기)\n",
        "* 3**2 = 9 (제곱)\n",
        "* 3/2 = 1.5 (나누기)\n",
        "* #~: 주석\n",
        "\n",
        "---\n",
        "\n",
        "# **📑목차**\n",
        "**수행평가는 두개 중 하나를 선택하여 실행하면 됩니다.**\n",
        "1.   이차곡선\n",
        "2.   벡터의 내적\n",
        "\n"
      ],
      "metadata": {
        "id": "GYahTlo5JhGi"
      }
    },
    {
      "cell_type": "markdown",
      "source": [
        "# **이차곡선**\n",
        "**아래의 셀을 하나씩 실행시키면 됩니다.**\n",
        "\n"
      ],
      "metadata": {
        "id": "YewweXE739Fg"
      }
    },
    {
      "cell_type": "code",
      "execution_count": null,
      "metadata": {
        "id": "eunIuaEgFiIt"
      },
      "outputs": [],
      "source": [
        "# 파이썬 그래픽 라이브러리 불러오기\n",
        "\n",
        "import matplotlib.pyplot as plt\n",
        "import numpy as np"
      ]
    },
    {
      "cell_type": "markdown",
      "source": [
        "## Grid 그리기"
      ],
      "metadata": {
        "id": "EWF-8Fks7UJq"
      }
    },
    {
      "cell_type": "code",
      "source": [
        "plt.xlabel(\"X\") # x축 이름 설정\n",
        "plt.ylabel(\"Y\") # y축 이름 설정\n",
        "\n",
        "plt.axis([-10, 10, -20, 20]) # grid의 범위 지정\n",
        "\n",
        "plt.show() # grid에 나타내기"
      ],
      "metadata": {
        "colab": {
          "base_uri": "https://localhost:8080/",
          "height": 283
        },
        "id": "QEI0t2nyzjpD",
        "outputId": "13a42b56-1538-4916-bb29-73c5d43bebb9"
      },
      "execution_count": null,
      "outputs": [
        {
          "output_type": "display_data",
          "data": {
            "text/plain": [
              "<Figure size 432x288 with 1 Axes>"
            ],
            "image/png": "[encoded data removed]"
          },
          "metadata": {
            "needs_background": "light"
          }
        }
      ]
    },
    {
      "cell_type": "markdown",
      "source": [
        "## **포물선**\n",
        "\n",
        "y라는 배열에 있는 수들에게 각각 x값을 하나씩 지정해 준다고 생각"
      ],
      "metadata": {
        "id": "YYPiX9_H8vEY"
      }
    },
    {
      "cell_type": "code",
      "source": [
        "y = np.arange(-4, 4, 0.01)\n",
        "print(y)"
      ],
      "metadata": {
        "id": "uJ-UWSj52_tI"
      },
      "execution_count": null,
      "outputs": []
    },
    {
      "cell_type": "code",
      "source": [
        "# 포물선 그리기: y^2=4px 형태\n",
        "\n",
        "plt.xlabel(\"X\")\n",
        "plt.ylabel(\"Y\")\n",
        "plt.axis([-10, 90, -4, 4])\n",
        "\n",
        "y = np.arange(-4, 4, 0.01) # 치역: [-4, 4) 를 0.01간격으로 나누기 (작은 간격일수록 부드러운 곡선이 나타나지만 오래걸림)\n",
        "plt.plot(4*y**2, y) # x, y로 함수 그리기\n",
        "\n",
        "plt.show()"
      ],
      "metadata": {
        "id": "aBkb2QOjGZXa",
        "colab": {
          "base_uri": "https://localhost:8080/",
          "height": 283
        },
        "outputId": "3eddeb7e-576b-47a3-85ff-aa98ab55f32c"
      },
      "execution_count": null,
      "outputs": [
        {
          "output_type": "display_data",
          "data": {
            "text/plain": [
              "<Figure size 432x288 with 1 Axes>"
            ],
            "image/png": "[encoded data removed]"
          },
          "metadata": {
            "needs_background": "light"
          }
        }
      ]
    },
    {
      "cell_type": "code",
      "source": [
        "# 포물선 그리기: x^2=4py 형태\n",
        "\n",
        "plt.axis([-4, 4, -80, 10])\n",
        "x = np.arange(-4, 4 , 0.01)\n",
        "plt.plot(x, -4*x**2)\n",
        "\n",
        "plt.show()"
      ],
      "metadata": {
        "id": "z15Vi4xvGrf6",
        "colab": {
          "base_uri": "https://localhost:8080/",
          "height": 269
        },
        "outputId": "04beebcb-d063-41d9-8690-f2a9a96f7bce"
      },
      "execution_count": null,
      "outputs": [
        {
          "output_type": "display_data",
          "data": {
            "text/plain": [
              "<Figure size 432x288 with 1 Axes>"
            ],
            "image/png": "[encoded data removed]"
          },
          "metadata": {
            "needs_background": "light"
          }
        }
      ]
    },
    {
      "cell_type": "markdown",
      "source": [
        "## **타원**\n",
        "\n",
        "numpy의 linspace() 함수는 특정 구간을 쪼개어 값을 생성한다는 점에서 arange() 함수와 비슷함!!\n",
        "\n",
        "하지만 arange() 함수에서는 간격을 지정하고 linspace()함수에서는 구간의 개수를 지정한다는 점에서 차이가 있다."
      ],
      "metadata": {
        "id": "l9TM2s_f81u9"
      }
    },
    {
      "cell_type": "code",
      "source": [
        "# 타원 그리기\n",
        "\n",
        "# np.pi = np라이브러리에서 불러온 파이값\n",
        "t = np.linspace(0, 2*np.pi, 100) # a와 b 사이를 일정한 간격을 유지하는 c개의 숫자로 채우기 -> c가 클수록 더 부드러운 곡선이 완성되지만 오래걸림\n",
        "\n",
        "plt.plot(3 + 5*np.cos(t), 2 + 3*np.sin(t)) # x와 y를 매개변수 t에 대한 식으로 표현\n",
        "plt.show()"
      ],
      "metadata": {
        "id": "ZblLXKxhGh9z",
        "colab": {
          "base_uri": "https://localhost:8080/",
          "height": 265
        },
        "outputId": "141c6ba2-4f6f-4763-e983-0d2993f01ef5"
      },
      "execution_count": null,
      "outputs": [
        {
          "output_type": "display_data",
          "data": {
            "text/plain": [
              "<Figure size 432x288 with 1 Axes>"
            ],
            "image/png": "[encoded data removed]"
          },
          "metadata": {
            "needs_background": "light"
          }
        }
      ]
    },
    {
      "cell_type": "code",
      "source": [
        "# 타원 그리기 2\n",
        "\n",
        "plt.axis([-6, 6, -5, 5])\n",
        "\n",
        "xrange = np.arange(-5.1, 5.1, 0.01)\n",
        "yrange = np.arange(-5.1, 5.1, 0.01)\n",
        "\n",
        "X, Y = np.meshgrid(xrange, yrange) # x와 y를 이용한 격자 생성\n",
        "\n",
        "plt.contour(X, Y, X**2/25 + Y**2/16 -1, [0], colors = 'm') # 원하는 색 찾기: https://matplotlib.org/stable/gallery/color/named_colors.html\n",
        "# TMI: contour함수는 본래 등고선을 표현할 때 사용하던 함수이다.\n",
        "\n",
        "plt.show()"
      ],
      "metadata": {
        "id": "qqdvVdqFIlZ-",
        "colab": {
          "base_uri": "https://localhost:8080/",
          "height": 265
        },
        "outputId": "af2338f7-cbcd-46ef-8974-22a98e808309"
      },
      "execution_count": null,
      "outputs": [
        {
          "output_type": "display_data",
          "data": {
            "text/plain": [
              "<Figure size 432x288 with 1 Axes>"
            ],
            "image/png": "[encoded data removed]"
          },
          "metadata": {
            "needs_background": "light"
          }
        }
      ]
    },
    {
      "cell_type": "markdown",
      "source": [
        "## **쌍곡선**"
      ],
      "metadata": {
        "id": "KO6bw6yK85hu"
      }
    },
    {
      "cell_type": "code",
      "source": [
        "# 쌍곡선 그리기\n",
        "\n",
        "xrange = np.arange(-20.1, 20.1, 0.01)\n",
        "yrange = np.arange(-20.1, 20.1, 0.01)\n",
        "\n",
        "X, Y = np.meshgrid(xrange, yrange)\n",
        "\n",
        "plt.contour(X, Y, X**2/25 - Y**2/16, [1], colors = 'y')\n",
        "plt.contour(X, Y, X**2/25 - Y**2/16, [-1], colors = 'b')\n",
        "\n",
        "plt.show()"
      ],
      "metadata": {
        "id": "hzRT9XwGIni2",
        "colab": {
          "base_uri": "https://localhost:8080/",
          "height": 269
        },
        "outputId": "b412549c-b656-463a-8ffd-95095ed9d581"
      },
      "execution_count": null,
      "outputs": [
        {
          "output_type": "display_data",
          "data": {
            "text/plain": [
              "<Figure size 432x288 with 1 Axes>"
            ],
            "image/png": "[encoded data removed]"
          },
          "metadata": {
            "needs_background": "light"
          }
        }
      ]
    },
    {
      "cell_type": "markdown",
      "source": [
        "# **내적**\n",
        "**아래의 셀을 하나씩 실행시키면 됩니다.**\n",
        "\n",
        "\n",
        "1.   벡터 a와 벡터 b 설정\n",
        "2.   a와 b를 평면에 나타내기\n",
        "3.   두 가지 방식으로 내적하기\n",
        "\n",
        "\n",
        "\n"
      ],
      "metadata": {
        "id": "GN-I3ZmW4_EQ"
      }
    },
    {
      "cell_type": "code",
      "source": [
        "import matplotlib.pyplot as plt\n",
        "import numpy as np"
      ],
      "metadata": {
        "id": "SPJ40f44KHOT"
      },
      "execution_count": 74,
      "outputs": []
    },
    {
      "cell_type": "markdown",
      "source": [
        "## 벡터 입력받기 - 자연수만!!!"
      ],
      "metadata": {
        "id": "nYChH6Nv7ssu"
      }
    },
    {
      "cell_type": "code",
      "source": [
        "# 모든 벡터 초기화\n",
        "x1 = [0]\n",
        "y1 = [0]\n",
        "x2 = [0]\n",
        "y2 = [0]\n",
        "\n",
        "# 벡터 값 입력받기\n",
        "print('A벡터 값을 입력하세요. (ex: 5 2)') # A = (3, 5)를 표현하려면 3 5 를 입력해야함\n",
        "a, b = map(int, input().split()) # 입력받은 문자열을 a, b로 나눔\n",
        "x1.append(a) # x1에 a 추가\n",
        "y1.append(b) # y1에 b 추가\n",
        "\n",
        "print('B벡터 값을 입력하세요. ex: 3 4')\n",
        "c, d = map(int, input().split())\n",
        "x2.append(c)\n",
        "y2.append(d)"
      ],
      "metadata": {
        "id": "hE6eOsnoKkoP",
        "colab": {
          "base_uri": "https://localhost:8080/"
        },
        "outputId": "8668f8e8-7e71-4bc6-dd01-c5b42fb55586"
      },
      "execution_count": 75,
      "outputs": [
        {
          "name": "stdout",
          "output_type": "stream",
          "text": [
            "A벡터 값을 입력하세요. (ex: 4 5)\n",
            "5 2\n",
            "B벡터 값을 입력하세요. ex: 3 4\n",
            "3 4\n"
          ]
        }
      ]
    },
    {
      "cell_type": "code",
      "source": [
        "print(x1, y1)\n",
        "print(x2, y2)"
      ],
      "metadata": {
        "id": "INg1v5nCqd8b",
        "colab": {
          "base_uri": "https://localhost:8080/"
        },
        "outputId": "331929e1-09c4-412e-c6d2-121545c7ccef"
      },
      "execution_count": 76,
      "outputs": [
        {
          "output_type": "stream",
          "name": "stdout",
          "text": [
            "[0, 5] [0, 2]\n",
            "[0, 3] [0, 4]\n"
          ]
        }
      ]
    },
    {
      "cell_type": "markdown",
      "source": [
        "## grid 범위 지정하기\n",
        "\n",
        "\n",
        "min(): 가장 작은 값 찾기\n",
        "\n",
        "max(): 가장 큰 값 찾기"
      ],
      "metadata": {
        "id": "aBlpgxt67v7y"
      }
    },
    {
      "cell_type": "code",
      "source": [
        "mx = max(x1[1], y1[1], x2[1], y2[1]) * 11/10 # mx에 4개 중 가장 큰 값 * 11/10을 저장\n",
        "mn = min(0, x1[1], y1[1], x2[1], y2[1]) * 11/10 # mn에 4개 중 가장 작은 값 * 11/10을 저장\n",
        "plt.axis([mn, mx, mn, mx])\n",
        "plt.grid()\n",
        "# mx, mn에 11/10을 곱하는 이유는 이후 grid에 나타낼 때 여백을 남기기 위함\n",
        "# 11/10을 곱하는 부분을 지우고 실행해보면 차이를 알 수 있음"
      ],
      "metadata": {
        "colab": {
          "base_uri": "https://localhost:8080/",
          "height": 265
        },
        "id": "OVUsZ8387eZI",
        "outputId": "416bcc83-dc07-454c-9867-c93dc8ace521"
      },
      "execution_count": 78,
      "outputs": [
        {
          "output_type": "display_data",
          "data": {
            "text/plain": [
              "<Figure size 432x288 with 1 Axes>"
            ],
            "image/png": "[encoded data removed]"
          },
          "metadata": {
            "needs_background": "light"
          }
        }
      ]
    },
    {
      "cell_type": "markdown",
      "source": [
        "## 벡터 표현하기"
      ],
      "metadata": {
        "id": "ow72A9N5_FfZ"
      }
    },
    {
      "cell_type": "code",
      "source": [
        "# 입력받은 두 벡터 표현하기\n",
        "\n",
        "plt.gca().set_aspect('equal', adjustable = 'box') # grid에서 x, y 간격을 동일하게 설정\n",
        "plt.axis([mn, mx, mn, mx])\n",
        "\n",
        "plt.plot(x1, y1) # 첫번째 벡터 그리기\n",
        "plt.plot(x2, y2) # 두번째 벡터 그리기\n",
        "plt.legend(['A vector', 'B vector']) # 범례 표시하기\n",
        "\n",
        "plt.grid()"
      ],
      "metadata": {
        "id": "7lEUm05QLL9g",
        "colab": {
          "base_uri": "https://localhost:8080/",
          "height": 265
        },
        "outputId": "1320a69b-6f8d-41f0-c51e-e5d4b847c2f5"
      },
      "execution_count": 79,
      "outputs": [
        {
          "output_type": "display_data",
          "data": {
            "text/plain": [
              "<Figure size 432x288 with 1 Axes>"
            ],
            "image/png": "[encoded data removed]"
          },
          "metadata": {
            "needs_background": "light"
          }
        }
      ]
    },
    {
      "cell_type": "markdown",
      "source": [
        "## 벡터의 내적 구하기"
      ],
      "metadata": {
        "id": "Wk44fwP9_JbS"
      }
    },
    {
      "cell_type": "code",
      "source": [
        "# 함수 정의: x, y를 받으면 x^2 + y^2를 반환\n",
        "# 벡터 (a, b)의 크기(의 제곱)를 구해주는 함수라는 것을 알 수 있음\n",
        "def Getpowlen(x, y):\n",
        "  return x**2 + y**2\n",
        "\n",
        "if Getpowlen(x1[1], y1[1]) <= Getpowlen(x2[1], y2[1]): # 두 벡터 중 크기가 큰 것을 second로 함 ->정사영에서 바닥\n",
        "  first = (x1[1], y1[1])\n",
        "  second = (x2[1], y2[1])\n",
        "else:\n",
        "  first = (x2[1], y2[1])\n",
        "  second = (x1[1], y1[1])"
      ],
      "metadata": {
        "id": "0LoGgoTa_OIm"
      },
      "execution_count": 80,
      "outputs": []
    },
    {
      "cell_type": "markdown",
      "source": [
        "삼항연산자란?\n",
        "\n",
        "<형태>\n",
        "\n",
        "* x = A if (조건) else B\n",
        "\n",
        "\n",
        "<뜻> \n",
        "\n",
        "* 조건이 참일 때 x에 A를 저장하고, 거짓일 때 B를 저장함"
      ],
      "metadata": {
        "id": "e9r-8x44Dp2o"
      }
    },
    {
      "cell_type": "markdown",
      "source": [
        "### m: OA에 수직인 기울기"
      ],
      "metadata": {
        "id": "Yhvwd1PeHAVK"
      }
    },
    {
      "cell_type": "code",
      "source": [
        "m = (-1) * second[0]/second[1] if second[1] != 0 else 0 # 두 번째 벡터의 법선벡터 (분모가 0일때는 오류 방지를 위해 m=0으로 처리)"
      ],
      "metadata": {
        "id": "ONhV54Z8HKv8"
      },
      "execution_count": null,
      "outputs": []
    },
    {
      "cell_type": "markdown",
      "source": [
        "### (meetx, meety): OA와 BH가 만나는 점"
      ],
      "metadata": {
        "id": "jIKRUDCIHPeW"
      }
    },
    {
      "cell_type": "code",
      "source": [
        "meetx = (m*first[0] - first[1]) / (m + 1/m)\n",
        "meety = meetx * (-1/m) # meetx가 정해지면 meety도 자연스럽게 따라 결정됨 - 이유는? OA위에 있는 점이니까"
      ],
      "metadata": {
        "id": "HiQm5GAMHXg1"
      },
      "execution_count": null,
      "outputs": []
    },
    {
      "cell_type": "markdown",
      "source": [
        "### n: BH의 식에서 y좌표 움직인 값"
      ],
      "metadata": {
        "id": "xtVCqMTwHfBM"
      }
    },
    {
      "cell_type": "code",
      "source": [
        "n = first[1] - m*first[0] # AH의 함수식에서 y축 이동을 불러옴"
      ],
      "metadata": {
        "id": "t85Rch2HHo2e"
      },
      "execution_count": null,
      "outputs": []
    },
    {
      "cell_type": "markdown",
      "source": [
        "### grid에 표현하기"
      ],
      "metadata": {
        "id": "WKkpjg22HtO3"
      }
    },
    {
      "cell_type": "code",
      "source": [
        "# 벡터의 내적 구하기\n",
        "\n",
        "if first[0] < meetx:\n",
        "  x3 = np.arange(first[0], meetx+0.01, 0.01)\n",
        "else:\n",
        "  x3 = np.arange(meetx, first[0]+0.01, 0.1)\n",
        "\n",
        "y3 = [(m*num + n) for num in x3] #x -> y 대응 \n",
        "\n",
        "plt.axis([mn, mx, mn, mx])\n",
        "plt.gca().set_aspect('equal', adjustable = 'box')\n",
        "\n",
        "plt.plot(x1, y1)\n",
        "plt.plot(x2, y2)\n",
        "plt.plot(x3, y3)\n",
        "\n",
        "plt.legend(['A vector', 'B vector'])\n",
        "plt.scatter(meetx, meety, c = 'm') # 점 찍기 -> 위치는 (meetx, meety)이고 색은 m\n",
        "\n",
        "plt.grid()"
      ],
      "metadata": {
        "id": "_B5SA-aQMj6N",
        "colab": {
          "base_uri": "https://localhost:8080/",
          "height": 265
        },
        "outputId": "a681a7ea-c23c-47e8-b194-5a093172ab15"
      },
      "execution_count": 83,
      "outputs": [
        {
          "output_type": "display_data",
          "data": {
            "text/plain": [
              "<Figure size 432x288 with 1 Axes>"
            ],
            "image/png": "[encoded data removed]"
          },
          "metadata": {
            "needs_background": "light"
          }
        }
      ]
    },
    {
      "cell_type": "code",
      "source": [
        "# {}안에 .format()을 집어넣기\n",
        "\n",
        "print('계산을 통해 구한 내적값은 {}이다.'.format(x1[1]*x2[1] + y1[1]*y2[1]))\n",
        "\n",
        "A_vec = Getpowlen(second[0], second[1]) ** (1/2) # 루트\n",
        "B_cos_vec = Getpowlen(meetx, meety) ** (1/2)\n",
        "\n",
        "print('그래프를 통해 구한 내적값은 {}이다.'.format(A_vec * B_cos_vec))\n",
        "print('이를 통해 내적의 원리를 알 수 있다.')"
      ],
      "metadata": {
        "id": "AgjVLycMK8--",
        "colab": {
          "base_uri": "https://localhost:8080/"
        },
        "outputId": "debe9608-7699-486f-a8c7-8a5d5b34bd86"
      },
      "execution_count": 82,
      "outputs": [
        {
          "output_type": "stream",
          "name": "stdout",
          "text": [
            "계산을 통해 구한 내적값은 23이다.\n",
            "그래프를 통해 구한 내적값은 23.0이다.\n",
            "이를 통해 내적의 원리를 알 수 있다.\n"
          ]
        }
      ]
    },
    {
      "cell_type": "markdown",
      "source": [
        "# 내적 전체 코드"
      ],
      "metadata": {
        "id": "_sk2WopoGDA9"
      }
    },
    {
      "cell_type": "code",
      "source": [
        "import matplotlib.pyplot as plt\n",
        "import numpy as np\n",
        "\n",
        "  # 모든 벡터 초기화\n",
        "x1 = [0]\n",
        "y1 = [0]\n",
        "x2 = [0]\n",
        "y2 = [0]\n",
        "\n",
        "  # 벡터 값 입력받기\n",
        "print('A벡터 값을 입력하세요. (ex: 5 2)') # A = (3, 5)를 표현하려면 3 5 를 입력해야함\n",
        "a, b = map(int, input().split()) # 입력받은 문자열을 a, b로 나눔\n",
        "x1.append(a) # x1에 a 추가\n",
        "y1.append(b) # y1에 b 추가\n",
        "\n",
        "print('B벡터 값을 입력하세요. ex: 3 4')\n",
        "c, d = map(int, input().split())\n",
        "x2.append(c)\n",
        "y2.append(d)\n",
        "\n",
        "mx = max(x1[1], y1[1], x2[1], y2[1]) * 11/10 # mx에 4개 중 가장 큰 값 * 11/10을 저장\n",
        "mn = min(0, x1[1], y1[1], x2[1], y2[1]) * 11/10 # mn에 4개 중 가장 작은 값 * 11/10을 저장\n",
        "plt.axis([mn, mx, mn, mx])\n",
        "\n",
        "  # 입력받은 두 벡터 표현하기\n",
        "\n",
        "plt.gca().set_aspect('equal', adjustable = 'box') # grid에서 x, y 간격을 동일하게 설정\n",
        "plt.axis([mn, mx, mn, mx])\n",
        "\n",
        "\n",
        "\n",
        "  # 함수 정의: x, y를 받으면 x^2 + y^2를 반환\n",
        "# 벡터 (a, b)의 크기(의 제곱)를 구해주는 함수라는 것을 알 수 있음\n",
        "def Getpowlen(x, y):\n",
        "  return x**2 + y**2\n",
        "\n",
        "if Getpowlen(x1[1], y1[1]) <= Getpowlen(x2[1], y2[1]): # 두 벡터 중 크기가 큰 것을 second로 함 ->정사영에서 바닥\n",
        "  first = (x1[1], y1[1])\n",
        "  second = (x2[1], y2[1])\n",
        "else:\n",
        "  first = (x2[1], y2[1])\n",
        "  second = (x1[1], y1[1])\n",
        "\n",
        "  # 벡터의 내적 구하기\n",
        "\n",
        "m = (-1) * second[0]/second[1] if second[1] != 0 else 0 # 두 번째 벡터의 법선벡터 (분모가 0일때는 오류 방지를 위해 m=0으로 처리)\n",
        "\n",
        "meetx = (m*first[0] - first[1]) / (m + 1/m)\n",
        "meety = meetx * (-1/m) # meetx가 정해지면 meety도 자연스럽게 따라 결정됨 - 이유는? OA위에 있는 점이니까\n",
        "\n",
        "if first[0] < meetx:\n",
        "  x3 = np.arange(first[0], meetx+0.01, 0.01)\n",
        "else:\n",
        "  x3 = np.arange(meetx, first[0]+0.01, 0.1)\n",
        "\n",
        "n = first[1] - m*first[0] # AH의 함수식에서 y축 이동을 불러옴\n",
        "\n",
        "y3 = [(m*num + n) for num in x3] #x -> y 대응 \n",
        "\n",
        "plt.axis([mn, mx, mn, mx])\n",
        "plt.gca().set_aspect('equal', adjustable = 'box')\n",
        "\n",
        "plt.plot(x1, y1)\n",
        "plt.plot(x2, y2)\n",
        "plt.plot(x3, y3)\n",
        "\n",
        "plt.legend(['A vector', 'B vector'])\n",
        "plt.scatter(meetx, meety, c = 'm') # 점 찍기 -> 위치는 (meetx, meety)이고 색은 m\n",
        "\n",
        "plt.grid()\n",
        "\n",
        "# {}안에 .format()을 집어넣기\n",
        "\n",
        "print('계산을 통해 구한 내적값은 {}이다.'.format(x1[1]*x2[1] + y1[1]*y2[1]))\n",
        "\n",
        "A_vec = Getpowlen(second[0], second[1]) ** (1/2) # 루트\n",
        "B_cos_vec = Getpowlen(meetx, meety) ** (1/2)\n",
        "\n",
        "print('그래프를 통해 구한 내적값은 {}이다.'.format(A_vec * B_cos_vec))\n",
        "print('이를 통해 내적의 원리를 알 수 있다.')"
      ],
      "metadata": {
        "colab": {
          "base_uri": "https://localhost:8080/",
          "height": 394
        },
        "id": "65O2dax4GFHe",
        "outputId": "bd1d8863-a10d-4d3d-f1f8-2186875e867d"
      },
      "execution_count": 85,
      "outputs": [
        {
          "output_type": "stream",
          "name": "stdout",
          "text": [
            "A벡터 값을 입력하세요. (ex: 5 2)\n",
            "5 2\n",
            "B벡터 값을 입력하세요. ex: 3 4\n",
            "3 4\n",
            "계산을 통해 구한 내적값은 23이다.\n",
            "그래프를 통해 구한 내적값은 23.0이다.\n",
            "이를 통해 내적의 원리를 알 수 있다.\n"
          ]
        },
        {
          "output_type": "display_data",
          "data": {
            "text/plain": [
              "<Figure size 432x288 with 1 Axes>"
            ],
            "image/png": "[encoded data removed]"
          },
          "metadata": {
            "needs_background": "light"
          }
        }
      ]
    }
  ]
}